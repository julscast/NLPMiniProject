{
 "cells": [
  {
   "cell_type": "markdown",
   "metadata": {},
   "source": [
    "https://github.com/egbertbouman/youtube-comment-downloader"
   ]
  },
  {
   "cell_type": "code",
   "execution_count": 7,
   "metadata": {},
   "outputs": [
    {
     "name": "stdout",
     "output_type": "stream",
     "text": [
      "Requirement already satisfied: youtube-comment-downloader in c:\\users\\casti\\anaconda3\\lib\\site-packages (0.1.73)\n",
      "Requirement already satisfied: dateparser in c:\\users\\casti\\anaconda3\\lib\\site-packages (from youtube-comment-downloader) (1.2.0)\n",
      "Requirement already satisfied: requests in c:\\users\\casti\\anaconda3\\lib\\site-packages (from youtube-comment-downloader) (2.28.1)\n",
      "Requirement already satisfied: tzlocal in c:\\users\\casti\\anaconda3\\lib\\site-packages (from dateparser->youtube-comment-downloader) (5.2)\n",
      "Requirement already satisfied: pytz in c:\\users\\casti\\anaconda3\\lib\\site-packages (from dateparser->youtube-comment-downloader) (2022.7)\n",
      "Requirement already satisfied: python-dateutil in c:\\users\\casti\\anaconda3\\lib\\site-packages (from dateparser->youtube-comment-downloader) (2.8.2)\n",
      "Requirement already satisfied: regex!=2019.02.19,!=2021.8.27 in c:\\users\\casti\\anaconda3\\lib\\site-packages (from dateparser->youtube-comment-downloader) (2022.7.9)\n",
      "Requirement already satisfied: charset-normalizer<3,>=2 in c:\\users\\casti\\anaconda3\\lib\\site-packages (from requests->youtube-comment-downloader) (2.0.4)\n",
      "Requirement already satisfied: urllib3<1.27,>=1.21.1 in c:\\users\\casti\\anaconda3\\lib\\site-packages (from requests->youtube-comment-downloader) (1.26.14)\n",
      "Requirement already satisfied: certifi>=2017.4.17 in c:\\users\\casti\\anaconda3\\lib\\site-packages (from requests->youtube-comment-downloader) (2022.12.7)\n",
      "Requirement already satisfied: idna<4,>=2.5 in c:\\users\\casti\\anaconda3\\lib\\site-packages (from requests->youtube-comment-downloader) (3.4)\n",
      "Requirement already satisfied: six>=1.5 in c:\\users\\casti\\anaconda3\\lib\\site-packages (from python-dateutil->dateparser->youtube-comment-downloader) (1.16.0)\n",
      "Requirement already satisfied: tzdata in c:\\users\\casti\\anaconda3\\lib\\site-packages (from tzlocal->dateparser->youtube-comment-downloader) (2024.1)\n",
      "Note: you may need to restart the kernel to use updated packages.\n"
     ]
    }
   ],
   "source": [
    "pip install youtube-comment-downloader"
   ]
  },
  {
   "cell_type": "code",
   "execution_count": 8,
   "metadata": {},
   "outputs": [],
   "source": [
    "from itertools import islice\n",
    "from youtube_comment_downloader import *\n",
    "downloader = YoutubeCommentDownloader()\n",
    "comments = downloader.get_comments_from_url('https://youtu.be/hOUGNGWmN0k?si=Edb9YrGiAPka-pfM', sort_by=SORT_BY_POPULAR)\n",
    "\n",
    "#Men's Rights vs Feminism: Is Toxic Masculinity Real? | Middle Ground"
   ]
  },
  {
   "cell_type": "code",
   "execution_count": 9,
   "metadata": {},
   "outputs": [],
   "source": [
    "with open('comments.json','w') as json_file:\n",
    "    for comment in islice(comments, 10000):\n",
    "        # print(comment)\n",
    "        json_file.write(json.dumps(comment) + '\\n')"
   ]
  },
  {
   "cell_type": "code",
   "execution_count": 10,
   "metadata": {},
   "outputs": [],
   "source": [
    "import json\n",
    "import csv"
   ]
  },
  {
   "cell_type": "code",
   "execution_count": 11,
   "metadata": {},
   "outputs": [],
   "source": [
    "with open('comments.json', 'r') as json_file2, open('youtube_comments.csv', 'w', newline='') as csv_file:\n",
    "    writer = csv.writer(csv_file)\n",
    "\n",
    "    writer.writerow(['text'])\n",
    "\n",
    "    for line in json_file2:\n",
    "        comment2 = json.loads(line)\n",
    "\n",
    "        text= comment2.get('text','')\n",
    "\n",
    "        writer.writerow([text])"
   ]
  }
 ],
 "metadata": {
  "kernelspec": {
   "display_name": "base",
   "language": "python",
   "name": "python3"
  },
  "language_info": {
   "codemirror_mode": {
    "name": "ipython",
    "version": 3
   },
   "file_extension": ".py",
   "mimetype": "text/x-python",
   "name": "python",
   "nbconvert_exporter": "python",
   "pygments_lexer": "ipython3",
   "version": "3.10.9"
  }
 },
 "nbformat": 4,
 "nbformat_minor": 2
}
